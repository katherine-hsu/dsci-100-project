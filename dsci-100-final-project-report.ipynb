{
 "cells": [
  {
   "cell_type": "markdown",
   "id": "f46bfb26-25af-4392-80d1-390e5bcb59a7",
   "metadata": {},
   "source": [
    "# DSCI 100-002 Project Final Report: Predicting Playing Time on MineCraft Based on Age and Player Experience\n",
    "---"
   ]
  },
  {
   "cell_type": "markdown",
   "id": "d33e7d84-af7c-4bd4-9d7d-272506b94f4a",
   "metadata": {},
   "source": [
    "**Date:** April 5th, 2025\n",
    "\n",
    "**Group 32:** Christine Choi, Austin Hart, Katherine Hsu, Jack Yan"
   ]
  },
  {
   "cell_type": "markdown",
   "id": "fa323da8-7fea-452e-a24b-d9fa49da98aa",
   "metadata": {},
   "source": [
    "## Introduction\n",
    "---"
   ]
  },
  {
   "cell_type": "markdown",
   "id": "3ec8e537-f5e3-4956-a763-5d1a27a8c454",
   "metadata": {},
   "source": [
    "### Background\n",
    "Minecraft, a sandbox video game developed by Mojang Studios and released in 2011, has become a global phenomenon, engaging millions of players across all age groups on its versatile platform. One key metric of engagement is the total hours players spend in the game, which can vary widely depending on individual player characteristics. For our research, we used data that was provided by plaicraft.ai, which is led by The Pacific Laboratory for Artificial Intelligence (PLAI), a research group from the Department of Computer Science at the University of British Columbia. "
   ]
  },
  {
   "cell_type": "markdown",
   "id": "97d1a351-73b4-4998-b68c-06e87a34d4d7",
   "metadata": {},
   "source": [
    "### Research question\n",
    "One of the broad questions that the researchers are interested in is knowing which \"kinds\" of players are most likely to contribute a large amount of data in order to target these players in their recruiting efforts. Specifically, the question we wanted to explore regarding this research objective is:\n",
    "\n",
    "Can `Age` and `experience` predict `played_hours` in `players.csv`?\n",
    "\n",
    "We chose the number of hours played as an outcome variable because the more time someone spends playing on the Minecraft server, the more their engagement is going to contribute to the recorded data. Moreover, we chose to look at age and experience as predictor variables because the combination of these two participant factors could help the researchers get a rough idea of the general audience to target in recruitment (e.g. teenagers that regularly play MineCraft)."
   ]
  },
  {
   "cell_type": "markdown",
   "id": "a14b99e5-67a6-47f8-8a6a-569b88d60ddf",
   "metadata": {},
   "source": [
    "### Description of dataset\n",
    "The dataset that we used for this project is `players.csv`, which contains a total of 196 observations (i.e. information about 196 unique players). There are 7 variables which include:\n",
    "- `experience` (character) - player's level of experience in the game (Veteran, Pro, Amateur, Regular, Beginner)\n",
    "- `subscribe` (logical) - TRUE if player is subscribed to a game-related newsletter, FALSE if they are not subscribed\n",
    "- `hashedEmail` (character) - player's email address scrambled into a unique code\n",
    "- `played_hours` (double) - number of hours (to one decimal place) that the player has played the game\n",
    "- `name` (character) - first name of the player\n",
    "- `gender` (character) - player's gender (Male, Female, Non-binary, Prefer not to say, Agender, Two-spirited, Other)\n",
    "- `Age` (double) - player's age as a number\n",
    "\n",
    "For the purpose of our research question, the relevant columns are `Age`, `experience`, and `played_hours`.\n",
    "\n",
    "Some visible issues include:\n",
    "- Values in the `Age` column containing \"NA\" instead of a number which could be an issue for applying computations since not all values in the column are the same data type.\n",
    "- `experience` and `gender` having character data types which should be converted to factors since they are both categorical variables with distinct values.\n",
    "\n",
    "Other potential issues that we noticed include:\n",
    "- Values in the `hashedEmail` column differing in length and including both numbers and letters, which could present a challenge for functions requiring indexing.\n",
    "- Each observation in `hashedEmail`being a unique code which could present challenges for filtering by this variable."
   ]
  },
  {
   "cell_type": "markdown",
   "id": "233190e1-3470-4f86-ace3-17b3a0925e23",
   "metadata": {},
   "source": [
    "## Methods\n",
    "---\n",
    "The method we used to analyze the hours played is K-nearest neighbour (KNN) regression. Since both the predictor (the players’ age) and predicted (hours played) are quantitative variables, this was the most appropriate in terms of prediction models. "
   ]
  },
  {
   "cell_type": "markdown",
   "id": "be039ccd-e1e4-4e45-ba51-53a114e9af2a",
   "metadata": {},
   "source": [
    "### Loading the data"
   ]
  },
  {
   "cell_type": "code",
   "execution_count": null,
   "id": "f411eed4-dd01-4fd0-a6e4-600b4fc52c0b",
   "metadata": {},
   "outputs": [],
   "source": []
  },
  {
   "cell_type": "markdown",
   "id": "39645730-8035-435f-ac2e-a532ee685cb0",
   "metadata": {},
   "source": [
    "### Tidying & Wrangling"
   ]
  },
  {
   "cell_type": "code",
   "execution_count": null,
   "id": "89d2e5cb-84ad-4d23-8606-6887736df954",
   "metadata": {},
   "outputs": [],
   "source": []
  },
  {
   "cell_type": "markdown",
   "id": "c866b8b9-c113-4003-89d6-973f373041ac",
   "metadata": {},
   "source": [
    "### Summary Statistics"
   ]
  },
  {
   "cell_type": "code",
   "execution_count": null,
   "id": "7207089f-6fd4-4e9a-8d87-c43268a50266",
   "metadata": {},
   "outputs": [],
   "source": []
  },
  {
   "cell_type": "markdown",
   "id": "8b9a4c5e-01ce-4292-bf27-e7f17427dd6e",
   "metadata": {},
   "source": [
    "### Exploratory Data Visualization"
   ]
  },
  {
   "cell_type": "code",
   "execution_count": null,
   "id": "848c0658-964e-4083-aa7d-6834e0c231e3",
   "metadata": {},
   "outputs": [],
   "source": []
  },
  {
   "cell_type": "markdown",
   "id": "a14ae5bd-23ea-4a96-a532-e3ea5a631afa",
   "metadata": {
    "jp-MarkdownHeadingCollapsed": true
   },
   "source": [
    "## Results\n",
    "---"
   ]
  },
  {
   "cell_type": "markdown",
   "id": "06cc8133-c84a-450c-af12-2162570b06ea",
   "metadata": {},
   "source": [
    "## Discussion\n",
    "---"
   ]
  },
  {
   "cell_type": "markdown",
   "id": "52743f2d-98c2-4461-924c-590e999cd455",
   "metadata": {},
   "source": [
    "## References\n",
    "---"
   ]
  },
  {
   "cell_type": "code",
   "execution_count": 1,
   "id": "9a2b677b-f7b9-4c9f-9218-28d7910f70ba",
   "metadata": {},
   "outputs": [
    {
     "data": {
      "text/html": [
       "'/home/jovyan/work/dsci-100-project'"
      ],
      "text/latex": [
       "'/home/jovyan/work/dsci-100-project'"
      ],
      "text/markdown": [
       "'/home/jovyan/work/dsci-100-project'"
      ],
      "text/plain": [
       "[1] \"/home/jovyan/work/dsci-100-project\""
      ]
     },
     "metadata": {},
     "output_type": "display_data"
    }
   ],
   "source": [
    "getwd()"
   ]
  },
  {
   "cell_type": "code",
   "execution_count": null,
   "id": "5020931b-20d3-476c-abad-deeb1905c5ae",
   "metadata": {},
   "outputs": [],
   "source": []
  }
 ],
 "metadata": {
  "kernelspec": {
   "display_name": "R",
   "language": "R",
   "name": "ir"
  },
  "language_info": {
   "codemirror_mode": "r",
   "file_extension": ".r",
   "mimetype": "text/x-r-source",
   "name": "R",
   "pygments_lexer": "r",
   "version": "4.3.3"
  }
 },
 "nbformat": 4,
 "nbformat_minor": 5
}
