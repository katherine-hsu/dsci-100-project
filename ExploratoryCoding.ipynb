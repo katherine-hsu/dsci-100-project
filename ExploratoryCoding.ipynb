{
 "cells": [
  {
   "cell_type": "markdown",
   "id": "430e66f3-b64d-4132-8b6b-022fb4bd6aff",
   "metadata": {},
   "source": [
    "Can experience and age predict hours played?"
   ]
  }
 ],
 "metadata": {
  "kernelspec": {
   "display_name": "R",
   "language": "R",
   "name": "ir"
  },
  "language_info": {
   "codemirror_mode": "r",
   "file_extension": ".r",
   "mimetype": "text/x-r-source",
   "name": "R",
   "pygments_lexer": "r",
   "version": "4.3.3"
  }
 },
 "nbformat": 4,
 "nbformat_minor": 5
}
