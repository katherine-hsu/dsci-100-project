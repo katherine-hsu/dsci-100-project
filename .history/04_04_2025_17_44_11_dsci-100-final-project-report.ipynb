{
 "cells": [
  {
   "cell_type": "code",
   "execution_count": null,
   "id": "5b453446-94a4-4c17-9684-b7cec6d37d5c",
   "metadata": {},
   "outputs": [],
   "source": [
    "library(tidyverse)\n",
    "library(repr)\n",
    "library(tidymodels)\n",
    "set.seed(2020)"
   ]
  },
  {
   "cell_type": "markdown",
   "id": "f46bfb26-25af-4392-80d1-390e5bcb59a7",
   "metadata": {},
   "source": [
    "# DSCI 100-002 Project Final Report: Predicting Playing Time on MineCraft Based on Age and Player Experience\n",
    "---"
   ]
  },
  {
   "cell_type": "markdown",
   "id": "d33e7d84-af7c-4bd4-9d7d-272506b94f4a",
   "metadata": {},
   "source": [
    "**Date:** April 5th, 2025\n",
    "\n",
    "**Group 32:** Christine Choi, Austin Hart, Katherine Hsu, Jack Yan"
   ]
  },
  {
   "cell_type": "markdown",
   "id": "fa323da8-7fea-452e-a24b-d9fa49da98aa",
   "metadata": {},
   "source": [
    "## Introduction\n",
    "---"
   ]
  },
  {
   "cell_type": "markdown",
   "id": "3ec8e537-f5e3-4956-a763-5d1a27a8c454",
   "metadata": {},
   "source": [
    "### Background\n",
    "Minecraft, a sandbox video game developed by Mojang Studios and released in 2011, has become a global phenomenon, engaging millions of players across all age groups on its versatile platform. One key metric of engagement is the total hours players spend in the game, which can vary widely depending on individual player characteristics. For our research, we used data that was provided by plaicraft.ai, which is led by The Pacific Laboratory for Artificial Intelligence (PLAI), a research group from the Department of Computer Science at the University of British Columbia. "
   ]
  },
  {
   "cell_type": "markdown",
   "id": "97d1a351-73b4-4998-b68c-06e87a34d4d7",
   "metadata": {},
   "source": [
    "### Research question\n",
    "One of the broad questions that the researchers are interested in is knowing which \"kinds\" of players are most likely to contribute a large amount of data in order to target these players in their recruiting efforts. Specifically, the question we wanted to explore regarding this research objective is:\n",
    "\n",
    "Can `Age` and `experience` predict `played_hours` in `players.csv`?\n",
    "\n",
    "We chose the number of hours played as an outcome variable because the more time someone spends playing on the Minecraft server, the more their engagement is going to contribute to the recorded data. Moreover, we chose to look at age and experience as predictor variables because the combination of these two participant factors could help the researchers get a rough idea of the general audience to target in recruitment (e.g. teenagers that regularly play MineCraft)."
   ]
  },
  {
   "cell_type": "markdown",
   "id": "a14b99e5-67a6-47f8-8a6a-569b88d60ddf",
   "metadata": {},
   "source": [
    "### Description of dataset\n",
    "The dataset that we used for this project is `players.csv`, which contains a total of 196 observations (i.e. information about 196 unique players). There are 7 variables which include:\n",
    "- `experience` (character) - player's level of experience in the game (Beginner, Amateur, Regular, Pro, Veteran)\n",
    "- `subscribe` (logical) - TRUE if player is subscribed to a game-related newsletter, FALSE if they are not subscribed\n",
    "- `hashedEmail` (character) - player's email address scrambled into a unique code\n",
    "- `played_hours` (double) - number of hours (to one decimal place) that the player has played the game\n",
    "- `name` (character) - first name of the player\n",
    "- `gender` (character) - player's gender (Male, Female, Non-binary, Prefer not to say, Agender, Two-spirited, Other)\n",
    "- `Age` (double) - player's age as a number\n",
    "\n",
    "For the purpose of our research question, the relevant columns are `Age`, `experience`, and `played_hours`. In the survey where the user fills out their personal information, those below the age of seven are unable to participate and the maximum age that someone can input is 99. Furthermore, level of experience was defined as:\n",
    "\n",
    "1) Beginner - I'm completely new to Minecraft\n",
    "2) Amateur - I've played a few hours of Minecraft\n",
    "3) Regular - I regularly play Minecraft\n",
    "4) Pro - I am experienced and pro Minecraft player\n",
    "5) Veteran - Been here since the old days. (Before 2015)\n",
    "\n",
    "Some visible issues in the data file include:\n",
    "- Values in the `Age` column containing \"NA\" instead of a number which could be an issue for applying computations since not all values in the column are the same data type.\n",
    "- `experience` and `gender` having character data types which should be converted to factors since they are both categorical variables with distinct values.\n",
    "\n",
    "Other potential issues that we noticed include:\n",
    "- Values in the `hashedEmail` column differing in length and including both numbers and letters, which could present a challenge for functions requiring indexing.\n",
    "- Each observation in `hashedEmail`being a unique code which could present challenges for filtering by this variable."
   ]
  },
  {
   "cell_type": "markdown",
   "id": "233190e1-3470-4f86-ace3-17b3a0925e23",
   "metadata": {},
   "source": [
    "## Methods\n",
    "---\n",
    "The method we used to analyze the hours played is K-nearest neighbour (KNN) regression. Since both the predictor (the players’ age) and predicted (hours played) are quantitative variables, this was the most appropriate in terms of prediction models. "
   ]
  },
  {
   "cell_type": "markdown",
   "id": "be039ccd-e1e4-4e45-ba51-53a114e9af2a",
   "metadata": {},
   "source": [
    "### Loading the data"
   ]
  },
  {
   "cell_type": "code",
   "execution_count": null,
   "id": "f411eed4-dd01-4fd0-a6e4-600b4fc52c0b",
   "metadata": {},
   "outputs": [],
   "source": [
    "players <- read_csv('players.csv')"
   ]
  },
  {
   "cell_type": "markdown",
   "id": "39645730-8035-435f-ac2e-a532ee685cb0",
   "metadata": {},
   "source": [
    "### Tidying & Wrangling"
   ]
  },
  {
   "cell_type": "code",
   "execution_count": null,
   "id": "89d2e5cb-84ad-4d23-8606-6887736df954",
   "metadata": {},
   "outputs": [],
   "source": [
    "players_tidy <- players |>\n",
    "    na.omit() |>\n",
    "    mutate(\n",
    "    experience = case_when(\n",
    "      experience == \"Beginner\" ~ 1,\n",
    "      experience == \"Amateur\" ~ 2,\n",
    "      experience == \"Regular\" ~ 3,\n",
    "      experience == \"Veteran\" ~ 4,\n",
    "      experience == \"Pro\" ~ 5),) |>\n",
    "    mutate(played_minutes = played_hours * 60) |>\n",
    "    # filter(6000 > played_minutes) |>\n",
    "    select(experience, Age, played_minutes)\n",
    "# players_tidy"
   ]
  },
  {
   "cell_type": "markdown",
   "id": "c866b8b9-c113-4003-89d6-973f373041ac",
   "metadata": {},
   "source": [
    "### Summary Statistics"
   ]
  },
  {
   "cell_type": "code",
   "execution_count": null,
   "id": "a2e36eee-7cdc-412b-a993-90abdaa33697",
   "metadata": {},
   "outputs": [],
   "source": [
    "players_with_zero <- players_tidy |>\n",
    "    filter(played_minutes == 0) |>\n",
    "    count()\n",
    "players_with_zero"
   ]
  },
  {
   "cell_type": "code",
   "execution_count": null,
   "id": "9c39784e-f58f-4f9a-a6c1-70e11428ab69",
   "metadata": {},
   "outputs": [],
   "source": [
    "players_over100 <- players_tidy |>\n",
    "    filter(played_minutes > 6000) |>\n",
    "    count()\n",
    "players_over100"
   ]
  },
  {
   "cell_type": "code",
   "execution_count": null,
   "id": "7207089f-6fd4-4e9a-8d87-c43268a50266",
   "metadata": {},
   "outputs": [],
   "source": [
    "experience_playtime_means <- players_tidy |>\n",
    "    group_by(experience) |>\n",
    "    summarize(mean_player_minutes = mean(played_minutes))\n",
    "experience_playtime_means"
   ]
  },
  {
   "cell_type": "code",
   "execution_count": null,
   "id": "d161e54f-3d46-4e58-a15e-90aa2325136e",
   "metadata": {},
   "outputs": [],
   "source": [
    "age_playtime_means <- players_tidy |>\n",
    "    group_by(Age) |>\n",
    "    summarize(mean_player_minutes = mean(played_minutes))\n",
    "age_playtime_means"
   ]
  },
  {
   "cell_type": "code",
   "execution_count": null,
   "id": "9f3b690d-fe84-42a8-9508-e10e13fa7bcc",
   "metadata": {},
   "outputs": [],
   "source": [
    "experience_age_means <- players_tidy |>\n",
    "    group_by(experience) |>\n",
    "    summarize(mean_age = mean(Age))\n",
    "experience_age_means"
   ]
  },
  {
   "cell_type": "markdown",
   "id": "8b9a4c5e-01ce-4292-bf27-e7f17427dd6e",
   "metadata": {},
   "source": [
    "### Exploratory Data Visualization"
   ]
  },
  {
   "cell_type": "code",
   "execution_count": null,
   "id": "848c0658-964e-4083-aa7d-6834e0c231e3",
   "metadata": {},
   "outputs": [],
   "source": [
    "options(repr.plot.width = 6, repr.plot.height = 5)\n",
    "\n",
    "experience_playtime_plot <- ggplot(experience_playtime_means, aes(x = experience, y = mean_player_minutes, fill = experience)) +\n",
    "    geom_bar(stat = 'identity') +\n",
    "    labs(x = 'Player Experience Level (1 = Beginner, 2 = Amateur, 3 = Regular, 4 = Veteran, 5 = Pro)', y = 'Average Playtime', title = 'Average Playtime per Experience Level')\n",
    "experience_playtime_plot"
   ]
  },
  {
   "cell_type": "code",
   "execution_count": null,
   "id": "0881ea5e-0c00-4c1d-b79d-861f5c93ee66",
   "metadata": {},
   "outputs": [],
   "source": [
    "options(repr.plot.width = 8, repr.plot.height = 5)\n",
    "\n",
    "age_playtime_plot <- ggplot(age_playtime_means, aes(x = Age, y = mean_player_minutes)) +\n",
    "    geom_bar(stat = 'identity') +\n",
    "    labs(x = 'Average Player Age', y = 'Average Playtime (minutes)', title = 'Average Playtime per Age')\n",
    "age_playtime_plot"
   ]
  },
  {
   "cell_type": "code",
   "execution_count": null,
   "id": "cbb8edf9-90c1-430c-910c-936a69617f59",
   "metadata": {},
   "outputs": [],
   "source": [
    "options(repr.plot.width = 6, repr.plot.height = 4)\n",
    "\n",
    "experience_age_plot <- ggplot(experience_age_means, aes(x = experience, y = mean_age, fill = experience)) +\n",
    "    geom_bar(stat = 'identity') +\n",
    "    labs(x = 'Player Experience Level (1 = Beginner, 2 = Amateur, 3 = Regular, 4 = Veteran, 5 = Pro)', y = 'Average Player Age', title = 'Average Player Age per Experience Level')\n",
    "experience_age_plot"
   ]
  },
  {
   "cell_type": "markdown",
   "id": "a14ae5bd-23ea-4a96-a532-e3ea5a631afa",
   "metadata": {},
   "source": [
    "## Results\n",
    "---"
   ]
  },
  {
   "cell_type": "code",
   "execution_count": null,
   "id": "0d2fdd8d-901e-422e-80e4-a9dfa194085d",
   "metadata": {},
   "outputs": [],
   "source": [
    "set.seed(2020)\n",
    "\n",
    "players_split <- initial_split(players_tidy, prop = 0.75, strata = played_minutes)\n",
    "players_train <- training(players_split)\n",
    "players_test <- testing(players_split)\n",
    "\n",
    "players_recipe <- recipe(played_minutes ~ experience + Age, data = players_train) |>\n",
    "    step_scale(all_predictors()) |>\n",
    "    step_center(all_predictors())\n",
    "\n",
    "players_spec_tune <- nearest_neighbor(weight_func = 'rectangular', neighbors = tune()) |>\n",
    "    set_engine('kknn') |>\n",
    "    set_mode('regression')\n",
    "\n",
    "players_vfold = vfold_cv(players_train, v = 5, strata = played_minutes)\n",
    "\n",
    "players_workflow <- workflow() |>\n",
    "    add_recipe(players_recipe) |>\n",
    "    add_model(players_spec_tune)\n",
    "\n",
    "gridvals <- tibble(neighbors = seq(from = 1, to = 109, by = 1))\n",
    "\n",
    "players_results <- players_workflow |>\n",
    "  tune_grid(resamples = players_vfold, grid = gridvals) |>\n",
    "  collect_metrics() |>\n",
    "  filter(.metric == \"rmse\")\n",
    "\n",
    "players_min <- players_results |>\n",
    "    filter(mean == min(mean))\n",
    "players_min"
   ]
  },
  {
   "cell_type": "code",
   "execution_count": null,
   "id": "13aca3b8-b652-4241-b4d9-abfe1fa8b817",
   "metadata": {},
   "outputs": [],
   "source": [
    "players_spec <-  nearest_neighbor(weight_func = 'rectangular', neighbors = 62) |>\n",
    "    set_engine('kknn') |>\n",
    "    set_mode('regression')\n",
    "\n",
    "players_fit <- workflow() |>\n",
    "    add_recipe(players_recipe) |>\n",
    "    add_model(players_spec) |>\n",
    "    fit(data = players_train)\n",
    "\n",
    "players_summary <- players_fit |>\n",
    "  predict(players_test) |>\n",
    "  bind_cols(players_test) |>\n",
    "  metrics(truth = played_minutes, estimate = .pred) |>\n",
    "  filter(.metric == 'rmse')\n",
    "\n",
    "players_summary"
   ]
  },
  {
   "cell_type": "code",
   "execution_count": null,
   "id": "a475c6da-3729-4234-bd6b-3fec991466c0",
   "metadata": {},
   "outputs": [],
   "source": [
    "players_preds <- predict(players_fit, players_train) |>\n",
    "        bind_cols(players_train)\n",
    "\n",
    "options(repr.plot.width = 14, repr.plot.height = 7)\n",
    "\n",
    "players_plot <- ggplot(players_tidy, aes(x = Age, y = played_minutes)) +\n",
    "  geom_point() +\n",
    "  geom_line(data = players_preds,\n",
    "            mapping = aes(x = Age, y = .pred),\n",
    "            color = \"steelblue\",\n",
    "            linewidth = 1) +\n",
    "  xlab(\"Player Age\") +\n",
    "  ylab(\"Minutes Played\") +\n",
    "    ggtitle('1 = Beginner, 2 = Amateur, 3 = Regular, 4 = Veteran, 5 = Pro')\n",
    "\n",
    "players_plot + facet_wrap(~experience, ncol = 5)"
   ]
  },
  {
   "cell_type": "markdown",
   "id": "4645015a-dc95-4bab-9baa-99d509622f9e",
   "metadata": {},
   "source": [
    "Then, we repeated these calculations but with the outliers removed. We decided that an outlier would be a player who has played more than 100 hours (6000 minutes)."
   ]
  },
  {
   "cell_type": "code",
   "execution_count": null,
   "id": "b3d87a42-536d-461c-aa26-9ca85f847648",
   "metadata": {},
   "outputs": [],
   "source": [
    "players_no_outliers <- players |>\n",
    "    na.omit() |>\n",
    "    mutate(\n",
    "    experience = case_when(\n",
    "      experience == \"Beginner\" ~ 1,\n",
    "      experience == \"Amateur\" ~ 2,\n",
    "      experience == \"Regular\" ~ 3,\n",
    "      experience == \"Veteran\" ~ 4,\n",
    "      experience == \"Pro\" ~ 5),) |>\n",
    "    mutate(played_minutes = played_hours * 60) |>\n",
    "    filter(6000 > played_minutes) |>\n",
    "    select(experience, Age, played_minutes)\n",
    "# players_no_outliers"
   ]
  },
  {
   "cell_type": "code",
   "execution_count": null,
   "id": "96ed41dd-8792-4888-9920-8735d41c5062",
   "metadata": {},
   "outputs": [],
   "source": [
    "set.seed(2020)\n",
    "\n",
    "players_split2 <- initial_split(players_no_outliers, prop = 0.75, strata = played_minutes)\n",
    "players_train2 <- training(players_split2)\n",
    "players_test2 <- testing(players_split2)\n",
    "\n",
    "players_recipe2 <- recipe(played_minutes ~ experience + Age, data = players_train2) |>\n",
    "    step_scale(all_predictors()) |>\n",
    "    step_center(all_predictors())\n",
    "\n",
    "players_spec_tune2 <- nearest_neighbor(weight_func = 'rectangular', neighbors = tune()) |>\n",
    "    set_engine('kknn') |>\n",
    "    set_mode('regression')\n",
    "\n",
    "players_vfold2 = vfold_cv(players_train2, v = 5, strata = played_minutes)\n",
    "\n",
    "players_workflow2 <- workflow() |>\n",
    "    add_recipe(players_recipe2) |>\n",
    "    add_model(players_spec_tune2)\n",
    "\n",
    "gridvals2 <- tibble(neighbors = seq(from = 1, to = 107, by = 1))\n",
    "\n",
    "players_results2 <- players_workflow2 |>\n",
    "  tune_grid(resamples = players_vfold2, grid = gridvals2) |>\n",
    "  collect_metrics() |>\n",
    "  filter(.metric == \"rmse\")\n",
    "\n",
    "players_min2 <- players_results2 |>\n",
    "    filter(mean == min(mean))\n",
    "players_min2"
   ]
  },
  {
   "cell_type": "markdown",
   "id": "06cc8133-c84a-450c-af12-2162570b06ea",
   "metadata": {},
   "source": [
    "## Discussion\n",
    "---"
   ]
  },
  {
   "cell_type": "markdown",
   "id": "52743f2d-98c2-4461-924c-590e999cd455",
   "metadata": {},
   "source": [
    "## References\n",
    "---"
   ]
  },
  {
   "cell_type": "code",
   "execution_count": null,
   "id": "5020931b-20d3-476c-abad-deeb1905c5ae",
   "metadata": {},
   "outputs": [],
   "source": []
  }
 ],
 "metadata": {
  "kernelspec": {
   "display_name": "R",
   "language": "R",
   "name": "ir"
  },
  "language_info": {
   "codemirror_mode": "r",
   "file_extension": ".r",
   "mimetype": "text/x-r-source",
   "name": "R",
   "pygments_lexer": "r",
   "version": "4.3.3"
  }
 },
 "nbformat": 4,
 "nbformat_minor": 5
}
