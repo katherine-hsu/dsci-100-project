{
 "cells": [
  {
   "cell_type": "markdown",
   "id": "430e66f3-b64d-4132-8b6b-022fb4bd6aff",
   "metadata": {},
   "source": [
    "Can experience and age predict hours played?"
   ]
  },
  {
   "cell_type": "code",
   "execution_count": null,
   "id": "26db764e-f297-4dc9-8e56-7d6aaa0556a2",
   "metadata": {},
   "outputs": [],
   "source": [
    "library(tidyverse)"
   ]
  },
  {
   "cell_type": "code",
   "execution_count": null,
   "id": "48dea241-21f7-41ff-bbfc-eb81ef432fa9",
   "metadata": {},
   "outputs": [],
   "source": [
    "players <- read_csv('players.csv')"
   ]
  },
  {
   "cell_type": "code",
   "execution_count": null,
   "id": "a326bb6d-c6f8-4d2a-98d8-042d362a646c",
   "metadata": {},
   "outputs": [],
   "source": [
    "players_tidy <- players |>\n",
    "    na.omit() |>\n",
    "    mutate(experience = as_factor(experience)) |>\n",
    "    select(experience, Age, played_hours)\n",
    "players_tidy"
   ]
  },
  {
   "cell_type": "code",
   "execution_count": null,
   "id": "cd968770-7545-4491-b3cf-83852026f4eb",
   "metadata": {},
   "outputs": [],
   "source": []
  }
 ],
 "metadata": {
  "kernelspec": {
   "display_name": "R",
   "language": "R",
   "name": "ir"
  },
  "language_info": {
   "codemirror_mode": "r",
   "file_extension": ".r",
   "mimetype": "text/x-r-source",
   "name": "R",
   "pygments_lexer": "r",
   "version": "4.3.3"
  }
 },
 "nbformat": 4,
 "nbformat_minor": 5
}
